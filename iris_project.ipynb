{
  "cells": [
    {
      "cell_type": "markdown",
      "metadata": {
        "id": "view-in-github",
        "colab_type": "text"
      },
      "source": [
        "<a href=\"https://colab.research.google.com/github/sibonginkosimathe99/iris-analysis-group1/blob/main/iris_project.ipynb\" target=\"_parent\"><img src=\"https://colab.research.google.com/assets/colab-badge.svg\" alt=\"Open In Colab\"/></a>"
      ]
    },
    {
      "cell_type": "code",
      "execution_count": null,
      "id": "96eaaab2-aad3-4817-8289-a48a55f7f5d1",
      "metadata": {
        "colab": {
          "base_uri": "https://localhost:8080/"
        },
        "id": "96eaaab2-aad3-4817-8289-a48a55f7f5d1",
        "outputId": "fbb5c195-476f-49a4-ab5a-9f541c09b85f"
      },
      "outputs": [
        {
          "output_type": "stream",
          "name": "stdout",
          "text": [
            "Hello, Iris by Youssef\n"
          ]
        }
      ],
      "source": [
        "print('Hello, Iris by Youssef')"
      ]
    },
    {
      "cell_type": "code",
      "execution_count": null,
      "id": "ec888883-25a9-4a54-b635-8f2883ea0ce2",
      "metadata": {
        "colab": {
          "base_uri": "https://localhost:8080/"
        },
        "id": "ec888883-25a9-4a54-b635-8f2883ea0ce2",
        "outputId": "4efc34ee-6c98-435a-b073-0aa367b62e2f"
      },
      "outputs": [
        {
          "output_type": "stream",
          "name": "stdout",
          "text": [
            "Hello, Iris by Sibo\n"
          ]
        }
      ],
      "source": [
        "print('Hello, Iris by Sibo')"
      ]
    },
    {
      "cell_type": "code",
      "source": [
        "print('Hello, Iris by Wendy')"
      ],
      "metadata": {
        "colab": {
          "base_uri": "https://localhost:8080/"
        },
        "id": "1nwc1SBOTbY3",
        "outputId": "c10bef92-9a78-4d14-e0ed-0e56acd37533"
      },
      "id": "1nwc1SBOTbY3",
      "execution_count": null,
      "outputs": [
        {
          "output_type": "stream",
          "name": "stdout",
          "text": [
            "Hello, Iris by Wendy\n"
          ]
        }
      ]
    },
    {
      "cell_type": "code",
      "source": [
        "print('Test, Test')"
      ],
      "metadata": {
        "id": "eg0Fo9uPTdGm",
        "outputId": "199c7c99-288b-49e7-eb09-cfe896d9dda5",
        "colab": {
          "base_uri": "https://localhost:8080/"
        }
      },
      "id": "eg0Fo9uPTdGm",
      "execution_count": 2,
      "outputs": [
        {
          "output_type": "stream",
          "name": "stdout",
          "text": [
            "Test, Test\n"
          ]
        }
      ]
    },
    {
      "cell_type": "code",
      "source": [],
      "metadata": {
        "id": "7Khz1zcMUyuZ"
      },
      "id": "7Khz1zcMUyuZ",
      "execution_count": null,
      "outputs": []
    }
  ],
  "metadata": {
    "kernelspec": {
      "display_name": "anaconda-2024.02-py310",
      "language": "python",
      "name": "conda-env-anaconda-2024.02-py310-py"
    },
    "language_info": {
      "codemirror_mode": {
        "name": "ipython",
        "version": 3
      },
      "file_extension": ".py",
      "mimetype": "text/x-python",
      "name": "python",
      "nbconvert_exporter": "python",
      "pygments_lexer": "ipython3",
      "version": "3.10.14"
    },
    "colab": {
      "provenance": [],
      "include_colab_link": true
    }
  },
  "nbformat": 4,
  "nbformat_minor": 5
}