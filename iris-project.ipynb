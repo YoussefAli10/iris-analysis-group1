{
  "cells": [
    {
      "cell_type": "code",
      "execution_count": null,
      "id": "96eaaab2-aad3-4817-8289-a48a55f7f5d1",
      "metadata": {
        "colab": {
          "base_uri": "https://localhost:8080/"
        },
        "id": "96eaaab2-aad3-4817-8289-a48a55f7f5d1",
        "outputId": "fbb5c195-476f-49a4-ab5a-9f541c09b85f"
      },
      "outputs": [
        {
          "output_type": "stream",
          "name": "stdout",
          "text": [
            "Hello, Iris by Youssef\n"
          ]
        }
      ],
      "source": [
        "print('Hello, Iris by Youssef')"
      ]
    },
    {
      "cell_type": "code",
      "execution_count": 2,
      "id": "ec888883-25a9-4a54-b635-8f2883ea0ce2",
      "metadata": {
        "colab": {
          "base_uri": "https://localhost:8080/"
        },
        "id": "ec888883-25a9-4a54-b635-8f2883ea0ce2",
        "outputId": "2b1b76de-cd73-4b8a-b800-aacdeabee2b3"
      },
      "outputs": [
        {
          "output_type": "stream",
          "name": "stdout",
          "text": [
            "Hello, Iris by S\n"
          ]
        }
      ],
      "source": [
        "print('Hello, Iris by S')"
      ]
    },
    {
      "cell_type": "code",
      "source": [
        "print('Hello, Iris by kirugi')"
      ],
      "metadata": {
        "colab": {
          "base_uri": "https://localhost:8080/"
        },
        "id": "1nwc1SBOTbY3",
        "outputId": "8162233d-26a6-4ca4-9496-dffc85f63ba7"
      },
      "id": "1nwc1SBOTbY3",
      "execution_count": 1,
      "outputs": [
        {
          "output_type": "stream",
          "name": "stdout",
          "text": [
            "Hello, Iris by kirugi\n"
          ]
        }
      ]
    },
    {
      "cell_type": "code",
      "source": [],
      "metadata": {
        "id": "eg0Fo9uPTdGm"
      },
      "id": "eg0Fo9uPTdGm",
      "execution_count": null,
      "outputs": []
    }
  ],
  "metadata": {
    "kernelspec": {
      "display_name": "anaconda-2024.02-py310",
      "language": "python",
      "name": "conda-env-anaconda-2024.02-py310-py"
    },
    "language_info": {
      "codemirror_mode": {
        "name": "ipython",
        "version": 3
      },
      "file_extension": ".py",
      "mimetype": "text/x-python",
      "name": "python",
      "nbconvert_exporter": "python",
      "pygments_lexer": "ipython3",
      "version": "3.10.14"
    },
    "colab": {
      "provenance": []
    }
  },
  "nbformat": 4,
  "nbformat_minor": 5
}