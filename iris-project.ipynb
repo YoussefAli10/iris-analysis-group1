{
  "cells": [
    {
      "cell_type": "markdown",
      "metadata": {
        "id": "view-in-github",
        "colab_type": "text"
      },
      "source": [
        "<a href=\"https://colab.research.google.com/github/YoussefAli10/iris-analysis-group1/blob/main/iris-project.ipynb\" target=\"_parent\"><img src=\"https://colab.research.google.com/assets/colab-badge.svg\" alt=\"Open In Colab\"/></a>"
      ]
    },
    {
      "cell_type": "code",
      "execution_count": null,
      "id": "96eaaab2-aad3-4817-8289-a48a55f7f5d1",
      "metadata": {
        "colab": {
          "base_uri": "https://localhost:8080/"
        },
        "id": "96eaaab2-aad3-4817-8289-a48a55f7f5d1",
        "outputId": "fbb5c195-476f-49a4-ab5a-9f541c09b85f"
      },
      "outputs": [
        {
          "output_type": "stream",
          "name": "stdout",
          "text": [
            "Hello, Iris by Youssef\n"
          ]
        }
      ],
      "source": [
        "print('Hello, Iris by Youssef')"
      ]
    },
    {
      "cell_type": "code",
      "execution_count": null,
      "id": "ec888883-25a9-4a54-b635-8f2883ea0ce2",
      "metadata": {
        "colab": {
          "base_uri": "https://localhost:8080/"
        },
        "id": "ec888883-25a9-4a54-b635-8f2883ea0ce2",
        "outputId": "8b2aa146-360f-4c7d-cae1-7be512f398f9"
      },
      "outputs": [
        {
          "output_type": "stream",
          "name": "stdout",
          "text": [
            "Hello, Iris by Sibo\n"
          ]
        }
      ],
      "source": [
        "print('Hello, Iris by Sibo')"
      ]
    },
    {
      "cell_type": "code",
      "source": [
        "print('Hello, Iris by Wendy')"
      ],
      "metadata": {
        "colab": {
          "base_uri": "https://localhost:8080/"
        },
        "id": "1nwc1SBOTbY3",
        "outputId": "bb31827b-b96b-4347-d2b6-29a624bab67d"
      },
      "id": "1nwc1SBOTbY3",
      "execution_count": null,
      "outputs": [
        {
          "output_type": "stream",
          "name": "stdout",
          "text": [
            "Hello, Iris by Wendy\n"
          ]
        }
      ]
    },
    {
      "cell_type": "code",
      "source": [
        "# Dataset metadata (Iris)\n",
        "from sklearn import datasets\n",
        "iris = datasets.load_iris()\n",
        "n_rows = iris.data.shape[0]  # should be 150\n",
        "n_features = iris.data.shape[1]\n",
        "print(f\"Rows: {n_rows}, Features: {n_features}\")\n"
      ],
      "metadata": {
        "id": "eg0Fo9uPTdGm",
        "colab": {
          "base_uri": "https://localhost:8080/"
        },
        "outputId": "1126fe34-ecbf-4c49-e0f1-1f3c928e5951"
      },
      "id": "eg0Fo9uPTdGm",
      "execution_count": 1,
      "outputs": [
        {
          "output_type": "stream",
          "name": "stdout",
          "text": [
            "Rows: 150, Features: 4\n"
          ]
        }
      ]
    },
    {
      "cell_type": "code",
      "source": [
        "# Example: check petal length threshold\n",
        "petal_length = 1.7\n",
        "if petal_length > 1.5:\n",
        "    print(\"Large petal\")\n",
        "else:\n",
        "    print(\"Small petal\")\n"
      ],
      "metadata": {
        "colab": {
          "base_uri": "https://localhost:8080/"
        },
        "id": "nFnJyektBE23",
        "outputId": "b7f47721-726b-462d-9777-b445f0971011"
      },
      "id": "nFnJyektBE23",
      "execution_count": 2,
      "outputs": [
        {
          "output_type": "stream",
          "name": "stdout",
          "text": [
            "Large petal\n"
          ]
        }
      ]
    },
    {
      "cell_type": "code",
      "source": [
        "def classify_flower(sepal_length, petal_length):\n",
        "    \"\"\"\n",
        "    Returns a label 'small'/'medium'/'large' based on petal_length.\n",
        "    (Simple thresholds for demo; not a trained model.)\n",
        "    \"\"\"\n",
        "    if petal_length < 1.5:\n",
        "        return \"small\"\n",
        "    elif petal_length < 4.5:\n",
        "        return \"medium\"\n",
        "    else:\n",
        "        return \"large\"\n",
        "\n",
        "# quick sanity checks\n",
        "print(classify_flower(5.1, 1.4))  # small\n",
        "print(classify_flower(6.0, 3.5))  # medium\n",
        "print(classify_flower(6.3, 5.0))  # large\n"
      ],
      "metadata": {
        "colab": {
          "base_uri": "https://localhost:8080/"
        },
        "id": "_4RW48sIBPTg",
        "outputId": "d997223f-978a-4f19-9bec-a1546eea315c"
      },
      "id": "_4RW48sIBPTg",
      "execution_count": 3,
      "outputs": [
        {
          "output_type": "stream",
          "name": "stdout",
          "text": [
            "small\n",
            "medium\n",
            "large\n"
          ]
        }
      ]
    },
    {
      "cell_type": "code",
      "source": [
        "# Iterate through Iris species and print them\n",
        "species = [\"setosa\", \"versicolor\", \"virginica\"]\n",
        "for s in species:\n",
        "    print(s)\n"
      ],
      "metadata": {
        "colab": {
          "base_uri": "https://localhost:8080/"
        },
        "id": "mA-Hz_wXBR4d",
        "outputId": "fe220d00-9fa8-4643-9eaa-50d77910d0b9"
      },
      "id": "mA-Hz_wXBR4d",
      "execution_count": 4,
      "outputs": [
        {
          "output_type": "stream",
          "name": "stdout",
          "text": [
            "setosa\n",
            "versicolor\n",
            "virginica\n"
          ]
        }
      ]
    },
    {
      "cell_type": "code",
      "source": [],
      "metadata": {
        "id": "e9ZbIITQBaAc"
      },
      "id": "e9ZbIITQBaAc",
      "execution_count": null,
      "outputs": []
    }
  ],
  "metadata": {
    "kernelspec": {
      "display_name": "anaconda-2024.02-py310",
      "language": "python",
      "name": "conda-env-anaconda-2024.02-py310-py"
    },
    "language_info": {
      "codemirror_mode": {
        "name": "ipython",
        "version": 3
      },
      "file_extension": ".py",
      "mimetype": "text/x-python",
      "name": "python",
      "nbconvert_exporter": "python",
      "pygments_lexer": "ipython3",
      "version": "3.10.14"
    },
    "colab": {
      "provenance": [],
      "include_colab_link": true
    }
  },
  "nbformat": 4,
  "nbformat_minor": 5
}