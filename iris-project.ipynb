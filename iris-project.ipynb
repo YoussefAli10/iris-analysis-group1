{
  "cells": [
    {
      "cell_type": "markdown",
      "metadata": {
        "id": "view-in-github",
        "colab_type": "text"
      },
      "source": [
        "<a href=\"https://colab.research.google.com/github/YoussefAli10/iris-analysis-group1/blob/main/iris-project.ipynb\" target=\"_parent\"><img src=\"https://colab.research.google.com/assets/colab-badge.svg\" alt=\"Open In Colab\"/></a>"
      ]
    },
    {
      "cell_type": "code",
      "execution_count": null,
      "id": "96eaaab2-aad3-4817-8289-a48a55f7f5d1",
      "metadata": {
        "colab": {
          "base_uri": "https://localhost:8080/"
        },
        "id": "96eaaab2-aad3-4817-8289-a48a55f7f5d1",
        "outputId": "fbb5c195-476f-49a4-ab5a-9f541c09b85f"
      },
      "outputs": [
        {
          "output_type": "stream",
          "name": "stdout",
          "text": [
            "Hello, Iris by Youssef\n"
          ]
        }
      ],
      "source": [
        "print('Hello, Iris by Youssef')"
      ]
    },
    {
      "cell_type": "code",
      "execution_count": null,
      "id": "ec888883-25a9-4a54-b635-8f2883ea0ce2",
      "metadata": {
        "colab": {
          "base_uri": "https://localhost:8080/"
        },
        "id": "ec888883-25a9-4a54-b635-8f2883ea0ce2",
        "outputId": "8b2aa146-360f-4c7d-cae1-7be512f398f9"
      },
      "outputs": [
        {
          "output_type": "stream",
          "name": "stdout",
          "text": [
            "Hello, Iris by Sibo\n"
          ]
        }
      ],
      "source": [
        "print('Hello, Iris by Sibo')"
      ]
    },
    {
      "cell_type": "code",
      "source": [
        "print('Hello, Iris by Wendy')"
      ],
      "metadata": {
        "colab": {
          "base_uri": "https://localhost:8080/"
        },
        "id": "1nwc1SBOTbY3",
        "outputId": "bb31827b-b96b-4347-d2b6-29a624bab67d"
      },
      "id": "1nwc1SBOTbY3",
      "execution_count": null,
      "outputs": [
        {
          "output_type": "stream",
          "name": "stdout",
          "text": [
            "Hello, Iris by Wendy\n"
          ]
        }
      ]
    },
    {
      "cell_type": "code",
      "source": [
        "# Store basic dataset metadata\n",
        "n_rows = 150\n",
        "dataset_name = \"Iris Dataset\"\n",
        "\n",
        "print(f\"Dataset: {dataset_name}\")\n",
        "print(f\"Number of rows: {n_rows}\")\n"
      ],
      "metadata": {
        "id": "eg0Fo9uPTdGm",
        "colab": {
          "base_uri": "https://localhost:8080/"
        },
        "outputId": "37af871b-231c-4823-886c-5b5f3fe799ee"
      },
      "id": "eg0Fo9uPTdGm",
      "execution_count": null,
      "outputs": [
        {
          "output_type": "stream",
          "name": "stdout",
          "text": [
            "Dataset: Iris Dataset\n",
            "Number of rows: 150\n"
          ]
        }
      ]
    },
    {
      "cell_type": "code",
      "source": [
        "# Example: check petal length threshold\n",
        "petal_length = 1.7\n",
        "if petal_length > 1.5:\n",
        "    print(\"Large petal\")\n",
        "else:\n",
        "    print(\"Small petal\")\n"
      ],
      "metadata": {
        "colab": {
          "base_uri": "https://localhost:8080/"
        },
        "id": "nFnJyektBE23",
        "outputId": "b7f47721-726b-462d-9777-b445f0971011"
      },
      "id": "nFnJyektBE23",
      "execution_count": null,
      "outputs": [
        {
          "output_type": "stream",
          "name": "stdout",
          "text": [
            "Large petal\n"
          ]
        }
      ]
    },
    {
      "cell_type": "code",
      "source": [
        "def classify_flower(sepal_length, petal_length):\n",
        "    \"\"\"\n",
        "    Returns a label 'small'/'medium'/'large' based on petal_length.\n",
        "    (Simple thresholds for demo; not a trained model.)\n",
        "    \"\"\"\n",
        "    if petal_length < 1.5:\n",
        "        return \"small\"\n",
        "    elif petal_length < 4.5:\n",
        "        return \"medium\"\n",
        "    else:\n",
        "        return \"large\"\n",
        "\n",
        "# quick sanity checks\n",
        "print(classify_flower(5.1, 1.4))  # small\n",
        "print(classify_flower(6.0, 3.5))  # medium\n",
        "print(classify_flower(6.3, 5.0))  # large\n"
      ],
      "metadata": {
        "colab": {
          "base_uri": "https://localhost:8080/"
        },
        "id": "_4RW48sIBPTg",
        "outputId": "d997223f-978a-4f19-9bec-a1546eea315c"
      },
      "id": "_4RW48sIBPTg",
      "execution_count": null,
      "outputs": [
        {
          "output_type": "stream",
          "name": "stdout",
          "text": [
            "small\n",
            "medium\n",
            "large\n"
          ]
        }
      ]
    },
    {
      "cell_type": "code",
      "source": [
        "# Iterate through Iris species and print them\n",
        "species = [\"setosa\", \"versicolor\", \"virginica\"]\n",
        "for s in species:\n",
        "    print(s)\n"
      ],
      "metadata": {
        "colab": {
          "base_uri": "https://localhost:8080/"
        },
        "id": "mA-Hz_wXBR4d",
        "outputId": "fe220d00-9fa8-4643-9eaa-50d77910d0b9"
      },
      "id": "mA-Hz_wXBR4d",
      "execution_count": null,
      "outputs": [
        {
          "output_type": "stream",
          "name": "stdout",
          "text": [
            "setosa\n",
            "versicolor\n",
            "virginica\n"
          ]
        }
      ]
    },
    {
      "cell_type": "code",
      "source": [
        "import pandas as pd\n",
        "from IPython.display import display, HTML\n",
        "\n",
        "# --- Configuration ---\n",
        "RAW_DATA_FILE = 'iris.csv'\n",
        "SUMMARY_FILE = 'summary.txt'\n",
        "CLEANED_DATA_FILE = 'iris_cleaned.csv'\n",
        "\n",
        "print(f\"--- Phase 3: Starting Processing for {RAW_DATA_FILE} ---\")"
      ],
      "metadata": {
        "id": "-vqHsP25B8R2",
        "outputId": "7b87d286-1cf0-431e-bdf1-183c310405f1",
        "colab": {
          "base_uri": "https://localhost:8080/"
        }
      },
      "id": "-vqHsP25B8R2",
      "execution_count": null,
      "outputs": [
        {
          "output_type": "stream",
          "name": "stdout",
          "text": [
            "--- Phase 3: Starting Processing for iris.csv ---\n"
          ]
        }
      ]
    },
    {
      "cell_type": "code",
      "source": [
        "# --- Load, Clean, and Write Summary ---\n",
        "\n",
        "# 1. Load data correctly (using default comma delimiter) and assign columns\n",
        "df = pd.read_csv(RAW_DATA_FILE, header=None)\n",
        "df.columns = ['sepal_length', 'sepal_width', 'petal_length', 'petal_width', 'species']\n",
        "initial_rows = len(df)\n",
        "\n",
        "# 2. Core Cleaning Steps:\n",
        "df.drop_duplicates(inplace=True)\n",
        "# Coerce measurement columns to numeric and drop rows with resulting NaNs\n",
        "df.iloc[:, 0:4] = df.iloc[:, 0:4].apply(pd.to_numeric, errors='coerce')\n",
        "df.dropna(inplace=True)\n",
        "final_rows = len(df)\n",
        "\n",
        "# 3. Calculate Sepal Length Stats (for summary.txt)\n",
        "stats = df['sepal_length'].agg(['min', 'max', 'mean'])\n",
        "\n",
        "# 4. Write summary.txt (consolidation of Block 2 logic)\n",
        "with open(SUMMARY_FILE, mode='w') as outfile:\n",
        "    outfile.write(f\"\"\"\n",
        "--- IRIS Dataset Summary ---\n",
        "Total Rows Processed: {initial_rows}\n",
        "Final Cleaned Rows: {final_rows}\n",
        "\n",
        "Sepal Length (cm) Statistics:\n",
        "Minimum: {stats['min']:.2f}\n",
        "Maximum: {stats['max']:.2f}\n",
        "Average: {stats['mean']:.2f}\n",
        "\"\"\".strip())\n",
        "\n",
        "print(f\" Summary written to {SUMMARY_FILE} with final row count.\")"
      ],
      "metadata": {
        "id": "MDLlFuksCRS_",
        "outputId": "fcd5ed5c-6797-4ced-d180-c8c4b6b95dd1",
        "colab": {
          "base_uri": "https://localhost:8080/"
        }
      },
      "id": "MDLlFuksCRS_",
      "execution_count": null,
      "outputs": [
        {
          "output_type": "stream",
          "name": "stdout",
          "text": [
            " Summary written to summary.txt with final row count.\n"
          ]
        }
      ]
    },
    {
      "cell_type": "code",
      "source": [
        "# --- Enhanced Initial Data Report ---\n",
        "print(\"\\n--- Initial Data Preview ---\")\n",
        "display(\n",
        "    df.head().style\n",
        "    .format(formatter={\n",
        "        'sepal_length': '{:.1f}',\n",
        "        'sepal_width': '{:.1f}',\n",
        "        'petal_length': '{:.1f}',\n",
        "        'petal_width': '{:.1f}'\n",
        "    })\n",
        "    .set_table_attributes(\"style='font-size: 10pt;'\")\n",
        "    .set_caption(\"First 5 Cleaned Rows\")\n",
        "\n",
        ")\n",
        "\n",
        "# --- Final Enhanced Cleaning Summary ---\n",
        "rows_removed_duplicates = initial_rows - final_rows # Simplified calculation\n",
        "\n",
        "print(\"\\n--- Final Cleaning Summary ---\")\n",
        "\n",
        "cleaning_summary_data = {\n",
        "    'Metric': ['Initial Rows Loaded', 'Total Rows Removed', 'Final Cleaned Rows'],\n",
        "    'Value': [initial_rows, rows_removed_duplicates, final_rows]\n",
        "}\n",
        "summary_df_vis = pd.DataFrame(cleaning_summary_data)\n",
        "\n",
        "# Style the final summary table\n",
        "display(\n",
        "    summary_df_vis.style\n",
        "    .set_properties(**{'background-color': '#f0f8ff', 'border-color': 'white'})\n",
        "    .hide(axis='index')\n",
        "    .set_caption(\"Summary of Data Cleaning Steps\")\n",
        "    .set_table_attributes(\"style='font-size: 12pt;'\")\n",
        ")\n",
        "\n",
        "# --- Save Cleaned Data ---\n",
        "df.to_csv(CLEANED_DATA_FILE, index=False)\n",
        "\n",
        "print(f\"\\n Final cleaned data saved to {CLEANED_DATA_FILE}.\")\n",
        "\n"
      ],
      "metadata": {
        "id": "tb3CjbpDCUm7",
        "outputId": "16f8342c-82e8-4c87-d2d6-a0d2a697f8f6",
        "colab": {
          "base_uri": "https://localhost:8080/",
          "height": 488
        }
      },
      "id": "tb3CjbpDCUm7",
      "execution_count": null,
      "outputs": [
        {
          "output_type": "stream",
          "name": "stdout",
          "text": [
            "\n",
            "--- Initial Data Preview ---\n"
          ]
        },
        {
          "output_type": "display_data",
          "data": {
            "text/plain": [
              "<pandas.io.formats.style.Styler at 0x7e5af0668d40>"
            ],
            "text/html": [
              "<style type=\"text/css\">\n",
              "</style>\n",
              "<table id=\"T_d1fcc\" class=\"dataframe\">\n",
              "  <caption>First 5 Cleaned Rows</caption>\n",
              "  <thead>\n",
              "    <tr>\n",
              "      <th class=\"blank level0\" >&nbsp;</th>\n",
              "      <th id=\"T_d1fcc_level0_col0\" class=\"col_heading level0 col0\" >sepal_length</th>\n",
              "      <th id=\"T_d1fcc_level0_col1\" class=\"col_heading level0 col1\" >sepal_width</th>\n",
              "      <th id=\"T_d1fcc_level0_col2\" class=\"col_heading level0 col2\" >petal_length</th>\n",
              "      <th id=\"T_d1fcc_level0_col3\" class=\"col_heading level0 col3\" >petal_width</th>\n",
              "      <th id=\"T_d1fcc_level0_col4\" class=\"col_heading level0 col4\" >species</th>\n",
              "    </tr>\n",
              "  </thead>\n",
              "  <tbody>\n",
              "    <tr>\n",
              "      <th id=\"T_d1fcc_level0_row0\" class=\"row_heading level0 row0\" >1</th>\n",
              "      <td id=\"T_d1fcc_row0_col0\" class=\"data row0 col0\" >5.1</td>\n",
              "      <td id=\"T_d1fcc_row0_col1\" class=\"data row0 col1\" >3.5</td>\n",
              "      <td id=\"T_d1fcc_row0_col2\" class=\"data row0 col2\" >1.4</td>\n",
              "      <td id=\"T_d1fcc_row0_col3\" class=\"data row0 col3\" >0.2</td>\n",
              "      <td id=\"T_d1fcc_row0_col4\" class=\"data row0 col4\" >Iris-setosa</td>\n",
              "    </tr>\n",
              "    <tr>\n",
              "      <th id=\"T_d1fcc_level0_row1\" class=\"row_heading level0 row1\" >2</th>\n",
              "      <td id=\"T_d1fcc_row1_col0\" class=\"data row1 col0\" >4.9</td>\n",
              "      <td id=\"T_d1fcc_row1_col1\" class=\"data row1 col1\" >3.0</td>\n",
              "      <td id=\"T_d1fcc_row1_col2\" class=\"data row1 col2\" >1.4</td>\n",
              "      <td id=\"T_d1fcc_row1_col3\" class=\"data row1 col3\" >0.2</td>\n",
              "      <td id=\"T_d1fcc_row1_col4\" class=\"data row1 col4\" >Iris-setosa</td>\n",
              "    </tr>\n",
              "    <tr>\n",
              "      <th id=\"T_d1fcc_level0_row2\" class=\"row_heading level0 row2\" >3</th>\n",
              "      <td id=\"T_d1fcc_row2_col0\" class=\"data row2 col0\" >4.7</td>\n",
              "      <td id=\"T_d1fcc_row2_col1\" class=\"data row2 col1\" >3.2</td>\n",
              "      <td id=\"T_d1fcc_row2_col2\" class=\"data row2 col2\" >1.3</td>\n",
              "      <td id=\"T_d1fcc_row2_col3\" class=\"data row2 col3\" >0.2</td>\n",
              "      <td id=\"T_d1fcc_row2_col4\" class=\"data row2 col4\" >Iris-setosa</td>\n",
              "    </tr>\n",
              "    <tr>\n",
              "      <th id=\"T_d1fcc_level0_row3\" class=\"row_heading level0 row3\" >4</th>\n",
              "      <td id=\"T_d1fcc_row3_col0\" class=\"data row3 col0\" >4.6</td>\n",
              "      <td id=\"T_d1fcc_row3_col1\" class=\"data row3 col1\" >3.1</td>\n",
              "      <td id=\"T_d1fcc_row3_col2\" class=\"data row3 col2\" >1.5</td>\n",
              "      <td id=\"T_d1fcc_row3_col3\" class=\"data row3 col3\" >0.2</td>\n",
              "      <td id=\"T_d1fcc_row3_col4\" class=\"data row3 col4\" >Iris-setosa</td>\n",
              "    </tr>\n",
              "    <tr>\n",
              "      <th id=\"T_d1fcc_level0_row4\" class=\"row_heading level0 row4\" >5</th>\n",
              "      <td id=\"T_d1fcc_row4_col0\" class=\"data row4 col0\" >5.0</td>\n",
              "      <td id=\"T_d1fcc_row4_col1\" class=\"data row4 col1\" >3.6</td>\n",
              "      <td id=\"T_d1fcc_row4_col2\" class=\"data row4 col2\" >1.4</td>\n",
              "      <td id=\"T_d1fcc_row4_col3\" class=\"data row4 col3\" >0.2</td>\n",
              "      <td id=\"T_d1fcc_row4_col4\" class=\"data row4 col4\" >Iris-setosa</td>\n",
              "    </tr>\n",
              "  </tbody>\n",
              "</table>\n"
            ]
          },
          "metadata": {}
        },
        {
          "output_type": "stream",
          "name": "stdout",
          "text": [
            "\n",
            "--- Final Cleaning Summary ---\n"
          ]
        },
        {
          "output_type": "display_data",
          "data": {
            "text/plain": [
              "<pandas.io.formats.style.Styler at 0x7e5ac5ef1940>"
            ],
            "text/html": [
              "<style type=\"text/css\">\n",
              "#T_4f8fd_row0_col0, #T_4f8fd_row0_col1, #T_4f8fd_row1_col0, #T_4f8fd_row1_col1, #T_4f8fd_row2_col0, #T_4f8fd_row2_col1 {\n",
              "  background-color: #f0f8ff;\n",
              "  border-color: white;\n",
              "}\n",
              "</style>\n",
              "<table id=\"T_4f8fd\" class=\"dataframe\">\n",
              "  <caption>Summary of Data Cleaning Steps</caption>\n",
              "  <thead>\n",
              "    <tr>\n",
              "      <th id=\"T_4f8fd_level0_col0\" class=\"col_heading level0 col0\" >Metric</th>\n",
              "      <th id=\"T_4f8fd_level0_col1\" class=\"col_heading level0 col1\" >Value</th>\n",
              "    </tr>\n",
              "  </thead>\n",
              "  <tbody>\n",
              "    <tr>\n",
              "      <td id=\"T_4f8fd_row0_col0\" class=\"data row0 col0\" >Initial Rows Loaded</td>\n",
              "      <td id=\"T_4f8fd_row0_col1\" class=\"data row0 col1\" >151</td>\n",
              "    </tr>\n",
              "    <tr>\n",
              "      <td id=\"T_4f8fd_row1_col0\" class=\"data row1 col0\" >Total Rows Removed</td>\n",
              "      <td id=\"T_4f8fd_row1_col1\" class=\"data row1 col1\" >4</td>\n",
              "    </tr>\n",
              "    <tr>\n",
              "      <td id=\"T_4f8fd_row2_col0\" class=\"data row2 col0\" >Final Cleaned Rows</td>\n",
              "      <td id=\"T_4f8fd_row2_col1\" class=\"data row2 col1\" >147</td>\n",
              "    </tr>\n",
              "  </tbody>\n",
              "</table>\n"
            ]
          },
          "metadata": {}
        },
        {
          "output_type": "stream",
          "name": "stdout",
          "text": [
            "\n",
            " Final cleaned data saved to iris_cleaned.csv.\n"
          ]
        }
      ]
    },
    {
      "cell_type": "code",
      "source": [],
      "metadata": {
        "id": "fh40iBZXCXg_"
      },
      "id": "fh40iBZXCXg_",
      "execution_count": null,
      "outputs": []
    }
  ],
  "metadata": {
    "kernelspec": {
      "display_name": "anaconda-2024.02-py310",
      "language": "python",
      "name": "conda-env-anaconda-2024.02-py310-py"
    },
    "language_info": {
      "codemirror_mode": {
        "name": "ipython",
        "version": 3
      },
      "file_extension": ".py",
      "mimetype": "text/x-python",
      "name": "python",
      "nbconvert_exporter": "python",
      "pygments_lexer": "ipython3",
      "version": "3.10.14"
    },
    "colab": {
      "provenance": [],
      "include_colab_link": true
    }
  },
  "nbformat": 4,
  "nbformat_minor": 5
}