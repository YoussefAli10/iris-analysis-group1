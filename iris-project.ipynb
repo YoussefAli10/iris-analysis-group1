{
  "cells": [
    {
      "cell_type": "markdown",
      "metadata": {
        "id": "view-in-github",
        "colab_type": "text"
      },
      "source": [
        "<a href=\"https://colab.research.google.com/github/YoussefAli10/iris-analysis-group1/blob/main/iris-project.ipynb\" target=\"_parent\"><img src=\"https://colab.research.google.com/assets/colab-badge.svg\" alt=\"Open In Colab\"/></a>"
      ]
    },
    {
      "cell_type": "code",
      "execution_count": null,
      "id": "96eaaab2-aad3-4817-8289-a48a55f7f5d1",
      "metadata": {
        "colab": {
          "base_uri": "https://localhost:8080/"
        },
        "id": "96eaaab2-aad3-4817-8289-a48a55f7f5d1",
        "outputId": "fbb5c195-476f-49a4-ab5a-9f541c09b85f"
      },
      "outputs": [
        {
          "output_type": "stream",
          "name": "stdout",
          "text": [
            "Hello, Iris by Youssef\n"
          ]
        }
      ],
      "source": [
        "print('Hello, Iris by Youssef')"
      ]
    },
    {
      "cell_type": "code",
      "execution_count": null,
      "id": "ec888883-25a9-4a54-b635-8f2883ea0ce2",
      "metadata": {
        "colab": {
          "base_uri": "https://localhost:8080/"
        },
        "id": "ec888883-25a9-4a54-b635-8f2883ea0ce2",
        "outputId": "8b2aa146-360f-4c7d-cae1-7be512f398f9"
      },
      "outputs": [
        {
          "output_type": "stream",
          "name": "stdout",
          "text": [
            "Hello, Iris by Sibo\n"
          ]
        }
      ],
      "source": [
        "print('Hello, Iris by Sibo')"
      ]
    },
    {
      "cell_type": "code",
      "source": [
        "print('Hello, Iris by Wendy')"
      ],
      "metadata": {
        "colab": {
          "base_uri": "https://localhost:8080/"
        },
        "id": "1nwc1SBOTbY3",
        "outputId": "bb31827b-b96b-4347-d2b6-29a624bab67d"
      },
      "id": "1nwc1SBOTbY3",
      "execution_count": null,
      "outputs": [
        {
          "output_type": "stream",
          "name": "stdout",
          "text": [
            "Hello, Iris by Wendy\n"
          ]
        }
      ]
    },
    {
      "cell_type": "code",
      "source": [
        "# Store basic dataset metadata\n",
        "n_rows = 150\n",
        "dataset_name = \"Iris Dataset\"\n",
        "\n",
        "print(f\"Dataset: {dataset_name}\")\n",
        "print(f\"Number of rows: {n_rows}\")\n"
      ],
      "metadata": {
        "id": "eg0Fo9uPTdGm",
        "colab": {
          "base_uri": "https://localhost:8080/"
        },
        "outputId": "37af871b-231c-4823-886c-5b5f3fe799ee"
      },
      "id": "eg0Fo9uPTdGm",
      "execution_count": null,
      "outputs": [
        {
          "output_type": "stream",
          "name": "stdout",
          "text": [
            "Dataset: Iris Dataset\n",
            "Number of rows: 150\n"
          ]
        }
      ]
    },
    {
      "cell_type": "code",
      "source": [
        "# Example: check petal length threshold\n",
        "petal_length = 1.7\n",
        "if petal_length > 1.5:\n",
        "    print(\"Large petal\")\n",
        "else:\n",
        "    print(\"Small petal\")\n"
      ],
      "metadata": {
        "colab": {
          "base_uri": "https://localhost:8080/"
        },
        "id": "nFnJyektBE23",
        "outputId": "b7f47721-726b-462d-9777-b445f0971011"
      },
      "id": "nFnJyektBE23",
      "execution_count": null,
      "outputs": [
        {
          "output_type": "stream",
          "name": "stdout",
          "text": [
            "Large petal\n"
          ]
        }
      ]
    },
    {
      "cell_type": "code",
      "source": [
        "def classify_flower(sepal_length, petal_length):\n",
        "    \"\"\"\n",
        "    Returns a label 'small'/'medium'/'large' based on petal_length.\n",
        "    (Simple thresholds for demo; not a trained model.)\n",
        "    \"\"\"\n",
        "    if petal_length < 1.5:\n",
        "        return \"small\"\n",
        "    elif petal_length < 4.5:\n",
        "        return \"medium\"\n",
        "    else:\n",
        "        return \"large\"\n",
        "\n",
        "# quick sanity checks\n",
        "print(classify_flower(5.1, 1.4))  # small\n",
        "print(classify_flower(6.0, 3.5))  # medium\n",
        "print(classify_flower(6.3, 5.0))  # large\n"
      ],
      "metadata": {
        "colab": {
          "base_uri": "https://localhost:8080/"
        },
        "id": "_4RW48sIBPTg",
        "outputId": "d997223f-978a-4f19-9bec-a1546eea315c"
      },
      "id": "_4RW48sIBPTg",
      "execution_count": null,
      "outputs": [
        {
          "output_type": "stream",
          "name": "stdout",
          "text": [
            "small\n",
            "medium\n",
            "large\n"
          ]
        }
      ]
    },
    {
      "cell_type": "code",
      "source": [
        "# Iterate through Iris species and print them\n",
        "species = [\"setosa\", \"versicolor\", \"virginica\"]\n",
        "for s in species:\n",
        "    print(s)\n"
      ],
      "metadata": {
        "colab": {
          "base_uri": "https://localhost:8080/"
        },
        "id": "mA-Hz_wXBR4d",
        "outputId": "fe220d00-9fa8-4643-9eaa-50d77910d0b9"
      },
      "id": "mA-Hz_wXBR4d",
      "execution_count": null,
      "outputs": [
        {
          "output_type": "stream",
          "name": "stdout",
          "text": [
            "setosa\n",
            "versicolor\n",
            "virginica\n"
          ]
        }
      ]
    },
    {
      "cell_type": "code",
      "source": [
        "import csv\n",
        "import pandas as pd\n",
        "# Import for the enhanced visual tables in Jupyter/Colab\n",
        "from IPython.display import display, HTML\n",
        "\n",
        "# --- Configuration ---\n",
        "# Ensure your downloaded file is named 'iris.csv' and is in the same directory.\n",
        "RAW_DATA_FILE = 'iris.csv'\n",
        "SUMMARY_FILE = 'summary.txt'\n",
        "CLEANED_DATA_FILE = 'iris_cleaned.csv'\n",
        "\n",
        "print(f\"--- Phase 3 Setup: Ready to process {RAW_DATA_FILE} ---\")\n",
        "print(\"-\" * 50)"
      ],
      "metadata": {
        "colab": {
          "base_uri": "https://localhost:8080/"
        },
        "id": "GSQ_Ckilhe1O",
        "outputId": "c3b5b555-0bed-45b7-ca15-30c6f1c047b3"
      },
      "id": "GSQ_Ckilhe1O",
      "execution_count": null,
      "outputs": [
        {
          "output_type": "stream",
          "name": "stdout",
          "text": [
            "--- Phase 3 Setup: Ready to process iris.csv ---\n",
            "--------------------------------------------------\n"
          ]
        }
      ]
    },
    {
      "cell_type": "code",
      "source": [
        "# --- 1. Read the raw Iris CSV file and calculate summary stats ---\n",
        "sepal_lengths = []\n",
        "row_count = 0\n",
        "sepal_length_index = 0\n",
        "\n",
        "try:\n",
        "    # Open the file for reading\n",
        "    with open(RAW_DATA_FILE, mode='r', newline='') as file:\n",
        "        reader = csv.reader(file)\n",
        "\n",
        "        for row in reader:\n",
        "            if not row: continue\n",
        "\n",
        "            try:\n",
        "                # Assuming semicolon separator, we split the single string column if needed\n",
        "                if len(row) == 1 and ';' in row[0]:\n",
        "                    parts = row[0].split(';')\n",
        "                else:\n",
        "                    parts = row\n",
        "\n",
        "                length = float(parts[sepal_length_index])\n",
        "                sepal_lengths.append(length)\n",
        "                row_count += 1\n",
        "            except (ValueError, IndexError):\n",
        "                # Handles malformed or non-numeric rows\n",
        "                pass\n",
        "\n",
        "except FileNotFoundError:\n",
        "    print(f\"ERROR: The file {RAW_DATA_FILE} was not found. Please check the name and location.\")\n",
        "    row_count = 0\n",
        "\n",
        "# Calculate stats\n",
        "if row_count > 0:\n",
        "    min_length = min(sepal_lengths)\n",
        "    max_length = max(sepal_lengths)\n",
        "    avg_length = sum(sepal_lengths) / row_count\n",
        "else:\n",
        "    min_length, max_length, avg_length = 'N/A', 'N/A', 'N/A'\n",
        "\n",
        "# --- 2. Write a summary file (summary.txt) ---\n",
        "summary_content = f\"\"\"\n",
        "--- IRIS Dataset Summary (CSV Module) ---\n",
        "Total Rows Processed: {row_count}\n",
        "\n",
        "Sepal Length (cm) Statistics:\n",
        "Minimum: {min_length:.2f}\n",
        "Maximum: {max_length:.2f}\n",
        "Average: {avg_length:.2f}\n",
        "\"\"\"\n",
        "\n",
        "with open(SUMMARY_FILE, mode='w') as outfile:\n",
        "    outfile.write(summary_content.strip())\n",
        "\n",
        "print(f\" Summary written to {SUMMARY_FILE}\")"
      ],
      "metadata": {
        "colab": {
          "base_uri": "https://localhost:8080/"
        },
        "id": "exBWseyFmZ4a",
        "outputId": "25f3efe7-678d-4d3c-920c-7276a8032d2f"
      },
      "id": "exBWseyFmZ4a",
      "execution_count": 38,
      "outputs": [
        {
          "output_type": "stream",
          "name": "stdout",
          "text": [
            " Summary written to summary.txt\n"
          ]
        }
      ]
    },
    {
      "cell_type": "code",
      "source": [
        "# --- 1. Import the dataset with pandas (read_csv) ---\n",
        "try:\n",
        "    # FIX APPLIED HERE: Removing the semicolon separator to use the default comma (,)\n",
        "    # If the file is comma-delimited, use this:\n",
        "    df = pd.read_csv(RAW_DATA_FILE, header=None)\n",
        "\n",
        "    # If the above line gives the error, uncomment the line below and comment out the line above.\n",
        "    # df = pd.read_csv(RAW_DATA_FILE, header=None, sep=';')\n",
        "\n",
        "    # Assign standard column names\n",
        "    df.columns = ['sepal_length', 'sepal_width', 'petal_length', 'petal_width', 'species']\n",
        "\n",
        "    initial_rows_count = len(df)\n",
        "    print(f\"\\nPandas Import Successful. Initial shape: {df.shape}\")\n",
        "except Exception as e:\n",
        "    print(f\"An error occurred while loading the data with pandas: {e}\")\n",
        "    df = pd.DataFrame()\n",
        "\n",
        "\n",
        "if not df.empty:\n",
        "\n",
        "    # --- 2. Check for missing values, column names, and data types ---\n",
        "\n",
        "    print(\"\\n-- Initial Data Check (Top 5 Rows - Enhanced Table) --\")\n",
        "    display(df.head().style.set_table_attributes(\"style='font-size: 10pt;'\"))\n",
        "\n",
        "    print(\"\\n-- Data Types and Non-Null Counts (Textual) --\")\n",
        "    df.info()\n",
        "\n",
        "    # Visually check for missing values\n",
        "    print(\"\\n-- Check for Missing Values (Enhanced Table) --\")\n",
        "    missing_data = pd.DataFrame(df.isnull().sum(), columns=['Missing Count'])\n",
        "    missing_data.index.name = 'Column'\n",
        "    display(\n",
        "        missing_data.style\n",
        "        .bar(subset=['Missing Count'], color='#FFA07A')\n",
        "        .set_caption(\"Missing Values Per Column\")\n",
        "    )\n",
        "\n",
        "    # --- Data Cleaning ---\n",
        "\n",
        "    # A. Handle Duplicates\n",
        "    initial_rows_pre_dup_drop = len(df)\n",
        "    df.drop_duplicates(inplace=True)\n",
        "    rows_removed_duplicates = initial_rows_pre_dup_drop - len(df)\n",
        "\n",
        "    # B. Ensure all measurement columns are numeric\n",
        "    cols_to_convert = ['sepal_length', 'sepal_width', 'petal_length', 'petal_width']\n",
        "    df[cols_to_convert] = df[cols_to_convert].apply(pd.to_numeric, errors='coerce')\n",
        "\n",
        "    # C. Drop any rows where measurements became NaN\n",
        "    nan_check = df.isnull().sum().sum()\n",
        "    rows_pre_nan_drop = len(df)\n",
        "\n",
        "    if nan_check > 0:\n",
        "        print(f\"\\nWarning: {nan_check} values converted to NaN. Dropping rows with NaNs.\")\n",
        "        df.dropna(inplace=True)\n",
        "\n",
        "    rows_removed_nan = rows_pre_nan_drop - len(df)\n",
        "    final_rows_count = len(df)"
      ],
      "metadata": {
        "colab": {
          "base_uri": "https://localhost:8080/",
          "height": 860
        },
        "id": "RF-xga6Xmcex",
        "outputId": "57608e40-19a8-441a-857f-06323cb50354"
      },
      "id": "RF-xga6Xmcex",
      "execution_count": null,
      "outputs": [
        {
          "output_type": "stream",
          "name": "stdout",
          "text": [
            "\n",
            "Pandas Import Successful. Initial shape: (151, 5)\n",
            "\n",
            "-- Initial Data Check (Top 5 Rows - Enhanced Table) --\n"
          ]
        },
        {
          "output_type": "display_data",
          "data": {
            "text/plain": [
              "<pandas.io.formats.style.Styler at 0x7e5ad4697e30>"
            ],
            "text/html": [
              "<style type=\"text/css\">\n",
              "</style>\n",
              "<table id=\"T_1ccb9\" class=\"dataframe\">\n",
              "  <thead>\n",
              "    <tr>\n",
              "      <th class=\"blank level0\" >&nbsp;</th>\n",
              "      <th id=\"T_1ccb9_level0_col0\" class=\"col_heading level0 col0\" >sepal_length</th>\n",
              "      <th id=\"T_1ccb9_level0_col1\" class=\"col_heading level0 col1\" >sepal_width</th>\n",
              "      <th id=\"T_1ccb9_level0_col2\" class=\"col_heading level0 col2\" >petal_length</th>\n",
              "      <th id=\"T_1ccb9_level0_col3\" class=\"col_heading level0 col3\" >petal_width</th>\n",
              "      <th id=\"T_1ccb9_level0_col4\" class=\"col_heading level0 col4\" >species</th>\n",
              "    </tr>\n",
              "  </thead>\n",
              "  <tbody>\n",
              "    <tr>\n",
              "      <th id=\"T_1ccb9_level0_row0\" class=\"row_heading level0 row0\" >0</th>\n",
              "      <td id=\"T_1ccb9_row0_col0\" class=\"data row0 col0\" >sepal_length</td>\n",
              "      <td id=\"T_1ccb9_row0_col1\" class=\"data row0 col1\" >sepal_width</td>\n",
              "      <td id=\"T_1ccb9_row0_col2\" class=\"data row0 col2\" >petal_length</td>\n",
              "      <td id=\"T_1ccb9_row0_col3\" class=\"data row0 col3\" >petal_width</td>\n",
              "      <td id=\"T_1ccb9_row0_col4\" class=\"data row0 col4\" >species</td>\n",
              "    </tr>\n",
              "    <tr>\n",
              "      <th id=\"T_1ccb9_level0_row1\" class=\"row_heading level0 row1\" >1</th>\n",
              "      <td id=\"T_1ccb9_row1_col0\" class=\"data row1 col0\" >5.1</td>\n",
              "      <td id=\"T_1ccb9_row1_col1\" class=\"data row1 col1\" >3.5</td>\n",
              "      <td id=\"T_1ccb9_row1_col2\" class=\"data row1 col2\" >1.4</td>\n",
              "      <td id=\"T_1ccb9_row1_col3\" class=\"data row1 col3\" >0.2</td>\n",
              "      <td id=\"T_1ccb9_row1_col4\" class=\"data row1 col4\" >Iris-setosa</td>\n",
              "    </tr>\n",
              "    <tr>\n",
              "      <th id=\"T_1ccb9_level0_row2\" class=\"row_heading level0 row2\" >2</th>\n",
              "      <td id=\"T_1ccb9_row2_col0\" class=\"data row2 col0\" >4.9</td>\n",
              "      <td id=\"T_1ccb9_row2_col1\" class=\"data row2 col1\" >3.0</td>\n",
              "      <td id=\"T_1ccb9_row2_col2\" class=\"data row2 col2\" >1.4</td>\n",
              "      <td id=\"T_1ccb9_row2_col3\" class=\"data row2 col3\" >0.2</td>\n",
              "      <td id=\"T_1ccb9_row2_col4\" class=\"data row2 col4\" >Iris-setosa</td>\n",
              "    </tr>\n",
              "    <tr>\n",
              "      <th id=\"T_1ccb9_level0_row3\" class=\"row_heading level0 row3\" >3</th>\n",
              "      <td id=\"T_1ccb9_row3_col0\" class=\"data row3 col0\" >4.7</td>\n",
              "      <td id=\"T_1ccb9_row3_col1\" class=\"data row3 col1\" >3.2</td>\n",
              "      <td id=\"T_1ccb9_row3_col2\" class=\"data row3 col2\" >1.3</td>\n",
              "      <td id=\"T_1ccb9_row3_col3\" class=\"data row3 col3\" >0.2</td>\n",
              "      <td id=\"T_1ccb9_row3_col4\" class=\"data row3 col4\" >Iris-setosa</td>\n",
              "    </tr>\n",
              "    <tr>\n",
              "      <th id=\"T_1ccb9_level0_row4\" class=\"row_heading level0 row4\" >4</th>\n",
              "      <td id=\"T_1ccb9_row4_col0\" class=\"data row4 col0\" >4.6</td>\n",
              "      <td id=\"T_1ccb9_row4_col1\" class=\"data row4 col1\" >3.1</td>\n",
              "      <td id=\"T_1ccb9_row4_col2\" class=\"data row4 col2\" >1.5</td>\n",
              "      <td id=\"T_1ccb9_row4_col3\" class=\"data row4 col3\" >0.2</td>\n",
              "      <td id=\"T_1ccb9_row4_col4\" class=\"data row4 col4\" >Iris-setosa</td>\n",
              "    </tr>\n",
              "  </tbody>\n",
              "</table>\n"
            ]
          },
          "metadata": {}
        },
        {
          "output_type": "stream",
          "name": "stdout",
          "text": [
            "\n",
            "-- Data Types and Non-Null Counts (Textual) --\n",
            "<class 'pandas.core.frame.DataFrame'>\n",
            "RangeIndex: 151 entries, 0 to 150\n",
            "Data columns (total 5 columns):\n",
            " #   Column        Non-Null Count  Dtype \n",
            "---  ------        --------------  ----- \n",
            " 0   sepal_length  151 non-null    object\n",
            " 1   sepal_width   151 non-null    object\n",
            " 2   petal_length  151 non-null    object\n",
            " 3   petal_width   151 non-null    object\n",
            " 4   species       151 non-null    object\n",
            "dtypes: object(5)\n",
            "memory usage: 6.0+ KB\n",
            "\n",
            "-- Check for Missing Values (Enhanced Table) --\n"
          ]
        },
        {
          "output_type": "stream",
          "name": "stderr",
          "text": [
            "/usr/local/lib/python3.12/dist-packages/pandas/io/formats/style.py:4040: RuntimeWarning: invalid value encountered in scalar divide\n",
            "  end = (x - left) / (right - left)\n"
          ]
        },
        {
          "output_type": "display_data",
          "data": {
            "text/plain": [
              "<pandas.io.formats.style.Styler at 0x7e5ac5f8b7d0>"
            ],
            "text/html": [
              "<style type=\"text/css\">\n",
              "#T_8c3fa_row0_col0, #T_8c3fa_row1_col0, #T_8c3fa_row2_col0, #T_8c3fa_row3_col0, #T_8c3fa_row4_col0 {\n",
              "  width: 10em;\n",
              "}\n",
              "</style>\n",
              "<table id=\"T_8c3fa\" class=\"dataframe\">\n",
              "  <caption>Missing Values Per Column</caption>\n",
              "  <thead>\n",
              "    <tr>\n",
              "      <th class=\"blank level0\" >&nbsp;</th>\n",
              "      <th id=\"T_8c3fa_level0_col0\" class=\"col_heading level0 col0\" >Missing Count</th>\n",
              "    </tr>\n",
              "    <tr>\n",
              "      <th class=\"index_name level0\" >Column</th>\n",
              "      <th class=\"blank col0\" >&nbsp;</th>\n",
              "    </tr>\n",
              "  </thead>\n",
              "  <tbody>\n",
              "    <tr>\n",
              "      <th id=\"T_8c3fa_level0_row0\" class=\"row_heading level0 row0\" >sepal_length</th>\n",
              "      <td id=\"T_8c3fa_row0_col0\" class=\"data row0 col0\" >0</td>\n",
              "    </tr>\n",
              "    <tr>\n",
              "      <th id=\"T_8c3fa_level0_row1\" class=\"row_heading level0 row1\" >sepal_width</th>\n",
              "      <td id=\"T_8c3fa_row1_col0\" class=\"data row1 col0\" >0</td>\n",
              "    </tr>\n",
              "    <tr>\n",
              "      <th id=\"T_8c3fa_level0_row2\" class=\"row_heading level0 row2\" >petal_length</th>\n",
              "      <td id=\"T_8c3fa_row2_col0\" class=\"data row2 col0\" >0</td>\n",
              "    </tr>\n",
              "    <tr>\n",
              "      <th id=\"T_8c3fa_level0_row3\" class=\"row_heading level0 row3\" >petal_width</th>\n",
              "      <td id=\"T_8c3fa_row3_col0\" class=\"data row3 col0\" >0</td>\n",
              "    </tr>\n",
              "    <tr>\n",
              "      <th id=\"T_8c3fa_level0_row4\" class=\"row_heading level0 row4\" >species</th>\n",
              "      <td id=\"T_8c3fa_row4_col0\" class=\"data row4 col0\" >0</td>\n",
              "    </tr>\n",
              "  </tbody>\n",
              "</table>\n"
            ]
          },
          "metadata": {}
        },
        {
          "output_type": "stream",
          "name": "stdout",
          "text": [
            "\n",
            "Warning: 4 values converted to NaN. Dropping rows with NaNs.\n"
          ]
        }
      ]
    },
    {
      "cell_type": "code",
      "source": [
        "# Assuming df is not empty from Block 3\n",
        "\n",
        "# --- Cleaning Summary Table (Enhanced Visual) ---\n",
        "print(\"\\n--- Final Cleaning Summary (Enhanced Table) ---\")\n",
        "\n",
        "cleaning_summary_data = {\n",
        "    'Metric': ['Initial Rows Loaded', 'Duplicates Removed', 'Rows Dropped (NaNs)', 'Final Cleaned Rows'],\n",
        "    'Value': [initial_rows_count, rows_removed_duplicates, rows_removed_nan, final_rows_count]\n",
        "}\n",
        "summary_df_vis = pd.DataFrame(cleaning_summary_data)\n",
        "\n",
        "# Style the final summary table\n",
        "display(\n",
        "    summary_df_vis.style\n",
        "    .set_properties(**{'background-color': '#f0f8ff', 'border-color': 'white'})\n",
        "    .hide(axis='index')\n",
        "    .set_caption(\"Summary of Data Cleaning Steps\")\n",
        ")\n",
        "\n",
        "print(f\"\\nCleaned dataset shape: {df.shape}\")\n",
        "\n",
        "# --- 3. Save cleaned dataset as iris_cleaned.csv ---\n",
        "df.to_csv(CLEANED_DATA_FILE, index=False)\n",
        "\n",
        "print(f\"\\n Cleaned data saved to {CLEANED_DATA_FILE}\")"
      ],
      "metadata": {
        "id": "nEkliBRzrl54",
        "outputId": "4c171c58-0b1a-4225-bb5f-a451a1ea6fcf",
        "colab": {
          "base_uri": "https://localhost:8080/",
          "height": 313
        }
      },
      "id": "nEkliBRzrl54",
      "execution_count": 39,
      "outputs": [
        {
          "output_type": "stream",
          "name": "stdout",
          "text": [
            "\n",
            "--- Final Cleaning Summary (Enhanced Table) ---\n"
          ]
        },
        {
          "output_type": "display_data",
          "data": {
            "text/plain": [
              "<pandas.io.formats.style.Styler at 0x7e5ac6b1d700>"
            ],
            "text/html": [
              "<style type=\"text/css\">\n",
              "#T_75c72_row0_col0, #T_75c72_row0_col1, #T_75c72_row1_col0, #T_75c72_row1_col1, #T_75c72_row2_col0, #T_75c72_row2_col1, #T_75c72_row3_col0, #T_75c72_row3_col1 {\n",
              "  background-color: #f0f8ff;\n",
              "  border-color: white;\n",
              "}\n",
              "</style>\n",
              "<table id=\"T_75c72\" class=\"dataframe\">\n",
              "  <caption>Summary of Data Cleaning Steps</caption>\n",
              "  <thead>\n",
              "    <tr>\n",
              "      <th id=\"T_75c72_level0_col0\" class=\"col_heading level0 col0\" >Metric</th>\n",
              "      <th id=\"T_75c72_level0_col1\" class=\"col_heading level0 col1\" >Value</th>\n",
              "    </tr>\n",
              "  </thead>\n",
              "  <tbody>\n",
              "    <tr>\n",
              "      <td id=\"T_75c72_row0_col0\" class=\"data row0 col0\" >Initial Rows Loaded</td>\n",
              "      <td id=\"T_75c72_row0_col1\" class=\"data row0 col1\" >151</td>\n",
              "    </tr>\n",
              "    <tr>\n",
              "      <td id=\"T_75c72_row1_col0\" class=\"data row1 col0\" >Duplicates Removed</td>\n",
              "      <td id=\"T_75c72_row1_col1\" class=\"data row1 col1\" >3</td>\n",
              "    </tr>\n",
              "    <tr>\n",
              "      <td id=\"T_75c72_row2_col0\" class=\"data row2 col0\" >Rows Dropped (NaNs)</td>\n",
              "      <td id=\"T_75c72_row2_col1\" class=\"data row2 col1\" >1</td>\n",
              "    </tr>\n",
              "    <tr>\n",
              "      <td id=\"T_75c72_row3_col0\" class=\"data row3 col0\" >Final Cleaned Rows</td>\n",
              "      <td id=\"T_75c72_row3_col1\" class=\"data row3 col1\" >147</td>\n",
              "    </tr>\n",
              "  </tbody>\n",
              "</table>\n"
            ]
          },
          "metadata": {}
        },
        {
          "output_type": "stream",
          "name": "stdout",
          "text": [
            "\n",
            "Cleaned dataset shape: (0, 0)\n",
            "\n",
            " Cleaned data saved to iris_cleaned.csv\n"
          ]
        }
      ]
    },
    {
      "cell_type": "code",
      "source": [],
      "metadata": {
        "id": "ZXfmei3ostT_"
      },
      "id": "ZXfmei3ostT_",
      "execution_count": null,
      "outputs": []
    }
  ],
  "metadata": {
    "kernelspec": {
      "display_name": "anaconda-2024.02-py310",
      "language": "python",
      "name": "conda-env-anaconda-2024.02-py310-py"
    },
    "language_info": {
      "codemirror_mode": {
        "name": "ipython",
        "version": 3
      },
      "file_extension": ".py",
      "mimetype": "text/x-python",
      "name": "python",
      "nbconvert_exporter": "python",
      "pygments_lexer": "ipython3",
      "version": "3.10.14"
    },
    "colab": {
      "provenance": [],
      "include_colab_link": true
    }
  },
  "nbformat": 4,
  "nbformat_minor": 5
}