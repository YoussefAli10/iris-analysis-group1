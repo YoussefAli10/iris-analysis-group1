{
 "cells": [
  {
   "cell_type": "code",
   "execution_count": 2,
   "id": "96eaaab2-aad3-4817-8289-a48a55f7f5d1",
   "metadata": {},
   "outputs": [
    {
     "name": "stdout",
     "output_type": "stream",
     "text": [
      "Hello, Iris\n"
     ]
    }
   ],
   "source": [
    "print('Hello, Iris')"
   ]
  },
  {
   "cell_type": "code",
   "execution_count": null,
   "id": "ec888883-25a9-4a54-b635-8f2883ea0ce2",
   "metadata": {},
   "outputs": [],
   "source": []
  }
 ],
 "metadata": {
  "kernelspec": {
   "display_name": "anaconda-2024.02-py310",
   "language": "python",
   "name": "conda-env-anaconda-2024.02-py310-py"
  },
  "language_info": {
   "codemirror_mode": {
    "name": "ipython",
    "version": 3
   },
   "file_extension": ".py",
   "mimetype": "text/x-python",
   "name": "python",
   "nbconvert_exporter": "python",
   "pygments_lexer": "ipython3",
   "version": "3.10.14"
  }
 },
 "nbformat": 4,
 "nbformat_minor": 5
}
